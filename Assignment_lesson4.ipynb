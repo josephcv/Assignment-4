{
 "cells": [
  {
   "cell_type": "code",
   "execution_count": 6,
   "metadata": {},
   "outputs": [
    {
     "name": "stdout",
     "output_type": "stream",
     "text": [
      "('Sides of the triangle are 11,22,24 and height is 30. Calculated Area is =', 165.40858502508266)\n",
      "Sides of the triangle are 11,22,24 and height is 30.\n"
     ]
    }
   ],
   "source": [
    "# Assignment 4.1.1\n",
    "#Area of the triangle\n",
    "\n",
    "class triangle:\n",
    "    def __init__(self, s1,s2,s3,h):\n",
    "        self.side1=s1\n",
    "        self.side2=s2\n",
    "        self.side3=s3\n",
    "        self.height=h\n",
    "    \n",
    "    def __str__(self):\n",
    "        return \"Sides of the triangle are %a,%a,%a and height is %a.\" \\\n",
    "                %(self.side1,self.side2,self.side3,self.height) \n",
    "        \n",
    "class area(triangle):\n",
    "    def __init__(self,*args,**kwargs):\n",
    "        super(area,self).__init__(*args,**kwargs)\n",
    "\n",
    "        \n",
    "    def cal(self):\n",
    "        a=(self.height*(self.height-self.side1)*(self.height-self.side2)*(self.height-self.side3))**0.5\n",
    "        return super(area,self).__str__() + \" Calculated Area is =\", a\n",
    "    \n",
    "x=area(11,22,24,30)\n",
    "print(x.cal())\n",
    "print(x)        "
   ]
  },
  {
   "cell_type": "code",
   "execution_count": 7,
   "metadata": {},
   "outputs": [
    {
     "name": "stdout",
     "output_type": "stream",
     "text": [
      "Enter some words:python,acad,gild,acadgild\n",
      "enter the word length to match:5\n",
      "('The resultant list is', ['python', 'acadgild'])\n"
     ]
    }
   ],
   "source": [
    "# Assignment 4.1.2\n",
    "# Finding the longest word\n",
    "\n",
    "class longword:\n",
    "    def __init__(self, w):\n",
    "        self.words=w\n",
    "        \n",
    "    def filter_long_word(self,length):\n",
    "        res=[]\n",
    "        for x in self.words:\n",
    "            if len(x) >= length:\n",
    "                res.append(x)\n",
    "        return \"The resultant list is\", res\n",
    "\n",
    "ip=input(\"Enter some words:\")\n",
    "l=input(\"enter the word length to match:\")\n",
    "a=ip.split(\",\")\n",
    "b=longword(a)\n",
    "print(b.filter_long_word(int(l)))\n",
    "            "
   ]
  },
  {
   "cell_type": "code",
   "execution_count": 8,
   "metadata": {},
   "outputs": [
    {
     "name": "stdout",
     "output_type": "stream",
     "text": [
      "Enter some words without space: python,today,was,good\n",
      "The input list is ['python', 'today', 'was', 'good']\n"
     ]
    },
    {
     "data": {
      "text/plain": [
       "('The lenght of words are', [6, 5, 3, 4])"
      ]
     },
     "execution_count": 8,
     "metadata": {},
     "output_type": "execute_result"
    }
   ],
   "source": [
    "# Assignment 4.2.1\n",
    "# Function to return lenght of words\n",
    "\n",
    "def find_lenght(list1):\n",
    "    listuse=list1.split(',')\n",
    "    print(\"The input list is\",listuse)\n",
    "    result=[]\n",
    "    for x in listuse:\n",
    "        result.append(len(x))\n",
    "    return \"The lenght of words are\", result\n",
    "\n",
    "list1=input(\"Enter some words without space: \")\n",
    "find_lenght(list1)\n"
   ]
  },
  {
   "cell_type": "code",
   "execution_count": 5,
   "metadata": {},
   "outputs": [
    {
     "name": "stdout",
     "output_type": "stream",
     "text": [
      "Enter a single character: e\n",
      "The input character is:  e\n"
     ]
    },
    {
     "data": {
      "text/plain": [
       "'True'"
      ]
     },
     "execution_count": 5,
     "metadata": {},
     "output_type": "execute_result"
    }
   ],
   "source": [
    "# Assignment 4.2.2\n",
    "# Find a vowel\n",
    "\n",
    "def find_vowel(charc):\n",
    "    print(\"The input character is: \",charc)\n",
    "    charc1=charc.lower()\n",
    "    if charc1=='a':\n",
    "        return \"True\"\n",
    "    elif charc1=='e':\n",
    "        return \"True\"\n",
    "    elif charc1=='i':\n",
    "        return \"True\"\n",
    "    elif charc1=='o':\n",
    "        return \"True\"\n",
    "    elif charc1=='u':\n",
    "        return\"True\"\n",
    "    else:\n",
    "        return \"False\"\n",
    "\n",
    "charc=input(\"Enter a single character: \")\n",
    "find_vowel(charc)"
   ]
  },
  {
   "cell_type": "code",
   "execution_count": null,
   "metadata": {
    "collapsed": true
   },
   "outputs": [],
   "source": []
  }
 ],
 "metadata": {
  "kernelspec": {
   "display_name": "Python 3",
   "language": "python",
   "name": "python3"
  },
  "language_info": {
   "codemirror_mode": {
    "name": "ipython",
    "version": 3
   },
   "file_extension": ".py",
   "mimetype": "text/x-python",
   "name": "python",
   "nbconvert_exporter": "python",
   "pygments_lexer": "ipython3",
   "version": "3.6.3"
  }
 },
 "nbformat": 4,
 "nbformat_minor": 2
}
